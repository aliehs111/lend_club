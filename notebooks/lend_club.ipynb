{
 "cells": [
  {
   "cell_type": "code",
   "execution_count": 1,
   "id": "ff78dd50-7af7-4201-8452-e54fb133e4d9",
   "metadata": {},
   "outputs": [
    {
     "name": "stdout",
     "output_type": "stream",
     "text": [
      "GPUs detected: [PhysicalDevice(name='/physical_device:GPU:0', device_type='GPU')]\n"
     ]
    },
    {
     "name": "stderr",
     "output_type": "stream",
     "text": [
      "2025-05-22 22:45:59.730730: I metal_plugin/src/device/metal_device.cc:1154] Metal device set to: Apple M2 Pro\n",
      "2025-05-22 22:45:59.730795: I metal_plugin/src/device/metal_device.cc:296] systemMemory: 16.00 GB\n",
      "2025-05-22 22:45:59.730807: I metal_plugin/src/device/metal_device.cc:313] maxCacheSize: 5.33 GB\n",
      "2025-05-22 22:45:59.730865: I tensorflow/core/common_runtime/pluggable_device/pluggable_device_factory.cc:305] Could not identify NUMA node of platform GPU ID 0, defaulting to 0. Your kernel may not have been built with NUMA support.\n",
      "2025-05-22 22:45:59.730887: I tensorflow/core/common_runtime/pluggable_device/pluggable_device_factory.cc:271] Created TensorFlow device (/job:localhost/replica:0/task:0/device:GPU:0 with 0 MB memory) -> physical PluggableDevice (device: 0, name: METAL, pci bus id: <undefined>)\n"
     ]
    },
    {
     "name": "stdout",
     "output_type": "stream",
     "text": [
      "CPU times: user 5.78 ms, sys: 4.28 ms, total: 10.1 ms\n",
      "Wall time: 118 ms\n"
     ]
    },
    {
     "data": {
      "text/plain": [
       "<tf.Tensor: shape=(1000, 1000), dtype=float32, numpy=\n",
       "array([[251.41241, 252.3171 , 250.29141, ..., 248.63344, 261.6719 ,\n",
       "        251.05037],\n",
       "       [255.92906, 258.9708 , 255.22124, ..., 248.48074, 264.2248 ,\n",
       "        251.3752 ],\n",
       "       [254.35999, 252.41928, 252.84554, ..., 249.52724, 268.2117 ,\n",
       "        252.96507],\n",
       "       ...,\n",
       "       [248.30617, 245.96918, 246.67494, ..., 245.12407, 259.0578 ,\n",
       "        249.1543 ],\n",
       "       [262.88916, 266.83218, 260.40402, ..., 258.13428, 271.83392,\n",
       "        264.94852],\n",
       "       [255.75249, 256.00717, 246.17233, ..., 242.88628, 258.10626,\n",
       "        249.47253]], dtype=float32)>"
      ]
     },
     "execution_count": 1,
     "metadata": {},
     "output_type": "execute_result"
    }
   ],
   "source": [
    "import tensorflow as tf\n",
    "\n",
    "gpus = tf.config.list_physical_devices('GPU')\n",
    "print(\"GPUs detected:\", gpus)\n",
    "\n",
    "# Simple test: \n",
    "# create a small tensor and run a matmul; it should dispatch to the GPU.\n",
    "a = tf.random.uniform((1000, 1000))\n",
    "b = tf.random.uniform((1000, 1000))\n",
    "%time tf.linalg.matmul(a, b)\n"
   ]
  },
  {
   "cell_type": "code",
   "execution_count": null,
   "id": "f649c743-fd56-47a3-bdcb-bccbcbe3dd78",
   "metadata": {},
   "outputs": [],
   "source": []
  },
  {
   "cell_type": "code",
   "execution_count": null,
   "id": "e5c5f623-d482-4278-afd7-163a0259232a",
   "metadata": {},
   "outputs": [],
   "source": []
  }
 ],
 "metadata": {
  "kernelspec": {
   "display_name": "Python 3 (ipykernel)",
   "language": "python",
   "name": "python3"
  },
  "language_info": {
   "codemirror_mode": {
    "name": "ipython",
    "version": 3
   },
   "file_extension": ".py",
   "mimetype": "text/x-python",
   "name": "python",
   "nbconvert_exporter": "python",
   "pygments_lexer": "ipython3",
   "version": "3.11.0"
  }
 },
 "nbformat": 4,
 "nbformat_minor": 5
}
