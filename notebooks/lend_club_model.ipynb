{
 "cells": [
  {
   "cell_type": "code",
   "execution_count": 1,
   "id": "78a954a7-c87d-4d78-a359-dbfc666fc6b2",
   "metadata": {},
   "outputs": [
    {
     "name": "stdout",
     "output_type": "stream",
     "text": [
      "Loaded ../data/loan_data_ready_fico_ir_inq.csv, shape = (9578, 4)\n"
     ]
    },
    {
     "data": {
      "text/html": [
       "<div>\n",
       "<style scoped>\n",
       "    .dataframe tbody tr th:only-of-type {\n",
       "        vertical-align: middle;\n",
       "    }\n",
       "\n",
       "    .dataframe tbody tr th {\n",
       "        vertical-align: top;\n",
       "    }\n",
       "\n",
       "    .dataframe thead th {\n",
       "        text-align: right;\n",
       "    }\n",
       "</style>\n",
       "<table border=\"1\" class=\"dataframe\">\n",
       "  <thead>\n",
       "    <tr style=\"text-align: right;\">\n",
       "      <th></th>\n",
       "      <th>fico</th>\n",
       "      <th>int.rate</th>\n",
       "      <th>inq.last.6mths</th>\n",
       "      <th>not.fully.paid</th>\n",
       "    </tr>\n",
       "  </thead>\n",
       "  <tbody>\n",
       "    <tr>\n",
       "      <th>0</th>\n",
       "      <td>0.688825</td>\n",
       "      <td>-0.139318</td>\n",
       "      <td>-0.716989</td>\n",
       "      <td>0</td>\n",
       "    </tr>\n",
       "    <tr>\n",
       "      <th>1</th>\n",
       "      <td>-0.101303</td>\n",
       "      <td>-0.578868</td>\n",
       "      <td>-0.716989</td>\n",
       "      <td>0</td>\n",
       "    </tr>\n",
       "    <tr>\n",
       "      <th>2</th>\n",
       "      <td>-0.759742</td>\n",
       "      <td>0.486484</td>\n",
       "      <td>-0.262470</td>\n",
       "      <td>0</td>\n",
       "    </tr>\n",
       "    <tr>\n",
       "      <th>3</th>\n",
       "      <td>0.030385</td>\n",
       "      <td>-0.813544</td>\n",
       "      <td>-0.262470</td>\n",
       "      <td>0</td>\n",
       "    </tr>\n",
       "    <tr>\n",
       "      <th>4</th>\n",
       "      <td>-1.154806</td>\n",
       "      <td>0.743509</td>\n",
       "      <td>-0.716989</td>\n",
       "      <td>0</td>\n",
       "    </tr>\n",
       "  </tbody>\n",
       "</table>\n",
       "</div>"
      ],
      "text/plain": [
       "       fico  int.rate  inq.last.6mths  not.fully.paid\n",
       "0  0.688825 -0.139318       -0.716989               0\n",
       "1 -0.101303 -0.578868       -0.716989               0\n",
       "2 -0.759742  0.486484       -0.262470               0\n",
       "3  0.030385 -0.813544       -0.262470               0\n",
       "4 -1.154806  0.743509       -0.716989               0"
      ]
     },
     "execution_count": 1,
     "metadata": {},
     "output_type": "execute_result"
    }
   ],
   "source": [
    "# Setup & Data Loading\n",
    "\n",
    "import pandas as pd\n",
    "import numpy as np\n",
    "from sklearn.model_selection import train_test_split\n",
    "from imblearn.over_sampling import SMOTE\n",
    "from tensorflow import keras\n",
    "from tensorflow.keras import layers, regularizers\n",
    "\n",
    "# -----------------------------------------------------------------------------\n",
    "# 1) Define paths to all “ready” CSV variants created in EDA\n",
    "# -----------------------------------------------------------------------------\n",
    "READY_FILE_RAW          = '../data/loan_data_ready_raw.csv'\n",
    "READY_FILE_LOG          = '../data/loan_data_ready_log.csv'\n",
    "READY_FILE_MIN_COLUMNS  = '../data/loan_data_ready_minimal.csv'\n",
    "READY_FILE_FICO_IR      = '../data/loan_data_ready_fico_ir.csv'\n",
    "READY_FILE_FICO_IR_INQ  = '../data/loan_data_ready_fico_ir_inq.csv'\n",
    "\n",
    "# -----------------------------------------------------------------------------\n",
    "# 2) Select which dataset to use for this experiment\n",
    "#    – Raw:       raw features scaled\n",
    "#    – Log:       log-transforms + engineered features\n",
    "#    – Minimal:   top 3 features + flags\n",
    "#    – FICO_IR:   FICO + interest rate\n",
    "#    – FICO_IR_INQ: FICO + interest rate + inquiries\n",
    "# -----------------------------------------------------------------------------\n",
    "READY_FILE = READY_FILE_FICO_IR_INQ\n",
    "\n",
    "# -----------------------------------------------------------------------------\n",
    "# 3) Load the chosen dataset\n",
    "# -----------------------------------------------------------------------------\n",
    "df = pd.read_csv(READY_FILE)\n",
    "print(f\"Loaded {READY_FILE}, shape = {df.shape}\")\n",
    "df.head()\n",
    "\n"
   ]
  },
  {
   "cell_type": "code",
   "execution_count": 2,
   "id": "3193e865-3cc7-4de6-9e85-02a65076a028",
   "metadata": {},
   "outputs": [
    {
     "name": "stdout",
     "output_type": "stream",
     "text": [
      "Features used: ['fico', 'int.rate', 'inq.last.6mths']\n",
      "Target balance:\n",
      " not.fully.paid\n",
      "0    0.839946\n",
      "1    0.160054\n",
      "Name: proportion, dtype: float64\n"
     ]
    }
   ],
   "source": [
    "# Define features & target from the ready CSV\n",
    "target_col = 'not.fully.paid'\n",
    "\n",
    "# Drop raw, untransformed features\n",
    "# df = df.drop(columns=['days.with.cr.line', 'revol.bal'])\n",
    "\n",
    "# pick up every remaining column except the target as a feature\n",
    "feature_cols = [c for c in df.columns if c != target_col]\n",
    "\n",
    "X = df[feature_cols]\n",
    "y = df[target_col]\n",
    "\n",
    "print(\"Features used:\", feature_cols)\n",
    "print(\"Target balance:\\n\", y.value_counts(normalize=True))\n",
    "\n",
    "\n",
    "\n",
    "\n"
   ]
  },
  {
   "cell_type": "code",
   "execution_count": 3,
   "id": "922bbee2-9938-4711-80b9-8a03dce50bfc",
   "metadata": {},
   "outputs": [
    {
     "name": "stdout",
     "output_type": "stream",
     "text": [
      "Train target balance:\n",
      " not.fully.paid\n",
      "0    0.83999\n",
      "1    0.16001\n",
      "Name: proportion, dtype: float64\n",
      "Test  target balance:\n",
      " not.fully.paid\n",
      "0    0.83977\n",
      "1    0.16023\n",
      "Name: proportion, dtype: float64\n"
     ]
    }
   ],
   "source": [
    "from sklearn.model_selection import train_test_split\n",
    "\n",
    "# Use an 80/20 split, stratified on the target\n",
    "X_train, X_test, y_train, y_test = train_test_split(\n",
    "    X, y,\n",
    "    stratify=y,\n",
    "    test_size=0.2,\n",
    "    random_state=42\n",
    ")\n",
    "\n",
    "print(\"Train target balance:\\n\", y_train.value_counts(normalize=True))\n",
    "print(\"Test  target balance:\\n\", y_test.value_counts(normalize=True))\n",
    "\n",
    "\n",
    "\n"
   ]
  },
  {
   "cell_type": "code",
   "execution_count": 4,
   "id": "ef404e56-067e-4291-bad3-ded0d729df39",
   "metadata": {},
   "outputs": [
    {
     "name": "stdout",
     "output_type": "stream",
     "text": [
      "Using original train balance (no SMOTE):\n",
      "not.fully.paid\n",
      "0.0    0.83999\n",
      "1.0    0.16001\n",
      "Name: proportion, dtype: float64\n"
     ]
    }
   ],
   "source": [
    "# from imblearn.over_sampling import SMOTE\n",
    "import numpy as np\n",
    "\n",
    "# --- Commented out SMOTE to switch to class weights ---\n",
    "# sm = SMOTE(random_state=42)\n",
    "# X_train_res, y_train_res = sm.fit_resample(X_train, y_train)\n",
    "\n",
    "# Instead, use the original, imbalanced train data:\n",
    "X_train_res = X_train.astype(np.float32)\n",
    "y_train_res = y_train.astype(np.float32)\n",
    "X_test      = X_test.astype(np.float32)\n",
    "y_test      = y_test.astype(np.float32)\n",
    "\n",
    "print(\"Using original train balance (no SMOTE):\")\n",
    "print(y_train_res.value_counts(normalize=True))\n",
    "\n",
    "\n",
    "\n"
   ]
  },
  {
   "cell_type": "code",
   "execution_count": 5,
   "id": "16fba203-8f68-44f4-bf1d-57b360c38203",
   "metadata": {},
   "outputs": [
    {
     "name": "stdout",
     "output_type": "stream",
     "text": [
      "Class weights: {0: 0.5952454940957116, 1: 3.124796084828711}\n"
     ]
    }
   ],
   "source": [
    "from sklearn.utils import class_weight\n",
    "import numpy as np\n",
    "\n",
    "# Compute balanced class weights from the IMBALANCED y_train\n",
    "weights = class_weight.compute_class_weight(\n",
    "    class_weight='balanced',\n",
    "    classes=np.array([0, 1]),\n",
    "    y=y_train.values\n",
    ")\n",
    "class_weights = {0: weights[0], 1: weights[1]}\n",
    "print(\"Class weights:\", class_weights)\n"
   ]
  },
  {
   "cell_type": "code",
   "execution_count": 6,
   "id": "3f5c1ca5-8663-49fb-9359-170a20c84e56",
   "metadata": {},
   "outputs": [
    {
     "name": "stderr",
     "output_type": "stream",
     "text": [
      "2025-06-07 17:06:55.330726: I metal_plugin/src/device/metal_device.cc:1154] Metal device set to: Apple M2 Pro\n",
      "2025-06-07 17:06:55.330748: I metal_plugin/src/device/metal_device.cc:296] systemMemory: 16.00 GB\n",
      "2025-06-07 17:06:55.330753: I metal_plugin/src/device/metal_device.cc:313] maxCacheSize: 5.33 GB\n",
      "2025-06-07 17:06:55.330768: I tensorflow/core/common_runtime/pluggable_device/pluggable_device_factory.cc:305] Could not identify NUMA node of platform GPU ID 0, defaulting to 0. Your kernel may not have been built with NUMA support.\n",
      "2025-06-07 17:06:55.330778: I tensorflow/core/common_runtime/pluggable_device/pluggable_device_factory.cc:271] Created TensorFlow device (/job:localhost/replica:0/task:0/device:GPU:0 with 0 MB memory) -> physical PluggableDevice (device: 0, name: METAL, pci bus id: <undefined>)\n"
     ]
    },
    {
     "data": {
      "text/html": [
       "<pre style=\"white-space:pre;overflow-x:auto;line-height:normal;font-family:Menlo,'DejaVu Sans Mono',consolas,'Courier New',monospace\"><span style=\"font-weight: bold\">Model: \"sequential\"</span>\n",
       "</pre>\n"
      ],
      "text/plain": [
       "\u001b[1mModel: \"sequential\"\u001b[0m\n"
      ]
     },
     "metadata": {},
     "output_type": "display_data"
    },
    {
     "data": {
      "text/html": [
       "<pre style=\"white-space:pre;overflow-x:auto;line-height:normal;font-family:Menlo,'DejaVu Sans Mono',consolas,'Courier New',monospace\">┏━━━━━━━━━━━━━━━━━━━━━━━━━━━━━━━━━┳━━━━━━━━━━━━━━━━━━━━━━━━┳━━━━━━━━━━━━━━━┓\n",
       "┃<span style=\"font-weight: bold\"> Layer (type)                    </span>┃<span style=\"font-weight: bold\"> Output Shape           </span>┃<span style=\"font-weight: bold\">       Param # </span>┃\n",
       "┡━━━━━━━━━━━━━━━━━━━━━━━━━━━━━━━━━╇━━━━━━━━━━━━━━━━━━━━━━━━╇━━━━━━━━━━━━━━━┩\n",
       "│ dense (<span style=\"color: #0087ff; text-decoration-color: #0087ff\">Dense</span>)                   │ (<span style=\"color: #00d7ff; text-decoration-color: #00d7ff\">None</span>, <span style=\"color: #00af00; text-decoration-color: #00af00\">64</span>)             │           <span style=\"color: #00af00; text-decoration-color: #00af00\">256</span> │\n",
       "├─────────────────────────────────┼────────────────────────┼───────────────┤\n",
       "│ dropout (<span style=\"color: #0087ff; text-decoration-color: #0087ff\">Dropout</span>)               │ (<span style=\"color: #00d7ff; text-decoration-color: #00d7ff\">None</span>, <span style=\"color: #00af00; text-decoration-color: #00af00\">64</span>)             │             <span style=\"color: #00af00; text-decoration-color: #00af00\">0</span> │\n",
       "├─────────────────────────────────┼────────────────────────┼───────────────┤\n",
       "│ dense_1 (<span style=\"color: #0087ff; text-decoration-color: #0087ff\">Dense</span>)                 │ (<span style=\"color: #00d7ff; text-decoration-color: #00d7ff\">None</span>, <span style=\"color: #00af00; text-decoration-color: #00af00\">32</span>)             │         <span style=\"color: #00af00; text-decoration-color: #00af00\">2,080</span> │\n",
       "├─────────────────────────────────┼────────────────────────┼───────────────┤\n",
       "│ dropout_1 (<span style=\"color: #0087ff; text-decoration-color: #0087ff\">Dropout</span>)             │ (<span style=\"color: #00d7ff; text-decoration-color: #00d7ff\">None</span>, <span style=\"color: #00af00; text-decoration-color: #00af00\">32</span>)             │             <span style=\"color: #00af00; text-decoration-color: #00af00\">0</span> │\n",
       "├─────────────────────────────────┼────────────────────────┼───────────────┤\n",
       "│ dense_2 (<span style=\"color: #0087ff; text-decoration-color: #0087ff\">Dense</span>)                 │ (<span style=\"color: #00d7ff; text-decoration-color: #00d7ff\">None</span>, <span style=\"color: #00af00; text-decoration-color: #00af00\">1</span>)              │            <span style=\"color: #00af00; text-decoration-color: #00af00\">33</span> │\n",
       "└─────────────────────────────────┴────────────────────────┴───────────────┘\n",
       "</pre>\n"
      ],
      "text/plain": [
       "┏━━━━━━━━━━━━━━━━━━━━━━━━━━━━━━━━━┳━━━━━━━━━━━━━━━━━━━━━━━━┳━━━━━━━━━━━━━━━┓\n",
       "┃\u001b[1m \u001b[0m\u001b[1mLayer (type)                   \u001b[0m\u001b[1m \u001b[0m┃\u001b[1m \u001b[0m\u001b[1mOutput Shape          \u001b[0m\u001b[1m \u001b[0m┃\u001b[1m \u001b[0m\u001b[1m      Param #\u001b[0m\u001b[1m \u001b[0m┃\n",
       "┡━━━━━━━━━━━━━━━━━━━━━━━━━━━━━━━━━╇━━━━━━━━━━━━━━━━━━━━━━━━╇━━━━━━━━━━━━━━━┩\n",
       "│ dense (\u001b[38;5;33mDense\u001b[0m)                   │ (\u001b[38;5;45mNone\u001b[0m, \u001b[38;5;34m64\u001b[0m)             │           \u001b[38;5;34m256\u001b[0m │\n",
       "├─────────────────────────────────┼────────────────────────┼───────────────┤\n",
       "│ dropout (\u001b[38;5;33mDropout\u001b[0m)               │ (\u001b[38;5;45mNone\u001b[0m, \u001b[38;5;34m64\u001b[0m)             │             \u001b[38;5;34m0\u001b[0m │\n",
       "├─────────────────────────────────┼────────────────────────┼───────────────┤\n",
       "│ dense_1 (\u001b[38;5;33mDense\u001b[0m)                 │ (\u001b[38;5;45mNone\u001b[0m, \u001b[38;5;34m32\u001b[0m)             │         \u001b[38;5;34m2,080\u001b[0m │\n",
       "├─────────────────────────────────┼────────────────────────┼───────────────┤\n",
       "│ dropout_1 (\u001b[38;5;33mDropout\u001b[0m)             │ (\u001b[38;5;45mNone\u001b[0m, \u001b[38;5;34m32\u001b[0m)             │             \u001b[38;5;34m0\u001b[0m │\n",
       "├─────────────────────────────────┼────────────────────────┼───────────────┤\n",
       "│ dense_2 (\u001b[38;5;33mDense\u001b[0m)                 │ (\u001b[38;5;45mNone\u001b[0m, \u001b[38;5;34m1\u001b[0m)              │            \u001b[38;5;34m33\u001b[0m │\n",
       "└─────────────────────────────────┴────────────────────────┴───────────────┘\n"
      ]
     },
     "metadata": {},
     "output_type": "display_data"
    },
    {
     "data": {
      "text/html": [
       "<pre style=\"white-space:pre;overflow-x:auto;line-height:normal;font-family:Menlo,'DejaVu Sans Mono',consolas,'Courier New',monospace\"><span style=\"font-weight: bold\"> Total params: </span><span style=\"color: #00af00; text-decoration-color: #00af00\">2,369</span> (9.25 KB)\n",
       "</pre>\n"
      ],
      "text/plain": [
       "\u001b[1m Total params: \u001b[0m\u001b[38;5;34m2,369\u001b[0m (9.25 KB)\n"
      ]
     },
     "metadata": {},
     "output_type": "display_data"
    },
    {
     "data": {
      "text/html": [
       "<pre style=\"white-space:pre;overflow-x:auto;line-height:normal;font-family:Menlo,'DejaVu Sans Mono',consolas,'Courier New',monospace\"><span style=\"font-weight: bold\"> Trainable params: </span><span style=\"color: #00af00; text-decoration-color: #00af00\">2,369</span> (9.25 KB)\n",
       "</pre>\n"
      ],
      "text/plain": [
       "\u001b[1m Trainable params: \u001b[0m\u001b[38;5;34m2,369\u001b[0m (9.25 KB)\n"
      ]
     },
     "metadata": {},
     "output_type": "display_data"
    },
    {
     "data": {
      "text/html": [
       "<pre style=\"white-space:pre;overflow-x:auto;line-height:normal;font-family:Menlo,'DejaVu Sans Mono',consolas,'Courier New',monospace\"><span style=\"font-weight: bold\"> Non-trainable params: </span><span style=\"color: #00af00; text-decoration-color: #00af00\">0</span> (0.00 B)\n",
       "</pre>\n"
      ],
      "text/plain": [
       "\u001b[1m Non-trainable params: \u001b[0m\u001b[38;5;34m0\u001b[0m (0.00 B)\n"
      ]
     },
     "metadata": {},
     "output_type": "display_data"
    }
   ],
   "source": [
    "from tensorflow import keras\n",
    "from tensorflow.keras import layers, regularizers\n",
    "\n",
    "def make_model(input_dim):\n",
    "    model = keras.Sequential([\n",
    "        layers.Input(shape=(input_dim,)),\n",
    "        layers.Dense(64, activation='relu',\n",
    "                     kernel_regularizer=regularizers.l2(1e-4)),\n",
    "        layers.Dropout(0.3),\n",
    "        layers.Dense(32, activation='relu',\n",
    "                     kernel_regularizer=regularizers.l2(1e-4)),\n",
    "        layers.Dropout(0.2),\n",
    "        layers.Dense(1, activation='sigmoid'),\n",
    "    ])\n",
    "    model.compile(\n",
    "        optimizer='adam',\n",
    "        loss='binary_crossentropy',\n",
    "        metrics= [keras.metrics.AUC(name='auc'),\n",
    "                 keras.metrics.Recall(name='sensitivity')]\n",
    "    )\n",
    "    return model\n",
    "\n",
    "input_dim = X_train_res.shape[1]\n",
    "model     = make_model(input_dim)\n",
    "model.summary()\n",
    "\n",
    "\n"
   ]
  },
  {
   "cell_type": "code",
   "execution_count": 7,
   "id": "04f5630e-92c3-44d8-93b8-fbe4be232282",
   "metadata": {},
   "outputs": [
    {
     "name": "stdout",
     "output_type": "stream",
     "text": [
      "Epoch 1/20\n"
     ]
    },
    {
     "name": "stderr",
     "output_type": "stream",
     "text": [
      "2025-06-07 17:06:55.668125: I tensorflow/core/grappler/optimizers/custom_graph_optimizer_registry.cc:117] Plugin optimizer for device_type GPU is enabled.\n"
     ]
    },
    {
     "name": "stdout",
     "output_type": "stream",
     "text": [
      "\u001b[1m24/24\u001b[0m \u001b[32m━━━━━━━━━━━━━━━━━━━━\u001b[0m\u001b[37m\u001b[0m \u001b[1m2s\u001b[0m 32ms/step - auc: 0.5741 - loss: 0.6987 - sensitivity: 0.5492 - val_auc: 0.6683 - val_loss: 0.6758 - val_sensitivity: 0.6426\n",
      "Epoch 2/20\n",
      "\u001b[1m24/24\u001b[0m \u001b[32m━━━━━━━━━━━━━━━━━━━━\u001b[0m\u001b[37m\u001b[0m \u001b[1m0s\u001b[0m 12ms/step - auc: 0.6237 - loss: 0.6760 - sensitivity: 0.5606 - val_auc: 0.6657 - val_loss: 0.6723 - val_sensitivity: 0.6298\n",
      "Epoch 3/20\n",
      "\u001b[1m24/24\u001b[0m \u001b[32m━━━━━━━━━━━━━━━━━━━━\u001b[0m\u001b[37m\u001b[0m \u001b[1m0s\u001b[0m 12ms/step - auc: 0.6296 - loss: 0.6878 - sensitivity: 0.5747 - val_auc: 0.6638 - val_loss: 0.6721 - val_sensitivity: 0.6298\n",
      "Epoch 4/20\n",
      "\u001b[1m24/24\u001b[0m \u001b[32m━━━━━━━━━━━━━━━━━━━━\u001b[0m\u001b[37m\u001b[0m \u001b[1m0s\u001b[0m 11ms/step - auc: 0.6226 - loss: 0.6869 - sensitivity: 0.5884 - val_auc: 0.6659 - val_loss: 0.6705 - val_sensitivity: 0.6340\n",
      "Epoch 5/20\n",
      "\u001b[1m24/24\u001b[0m \u001b[32m━━━━━━━━━━━━━━━━━━━━\u001b[0m\u001b[37m\u001b[0m \u001b[1m0s\u001b[0m 11ms/step - auc: 0.6352 - loss: 0.6768 - sensitivity: 0.5687 - val_auc: 0.6671 - val_loss: 0.6664 - val_sensitivity: 0.6213\n",
      "Epoch 6/20\n",
      "\u001b[1m24/24\u001b[0m \u001b[32m━━━━━━━━━━━━━━━━━━━━\u001b[0m\u001b[37m\u001b[0m \u001b[1m0s\u001b[0m 12ms/step - auc: 0.6340 - loss: 0.6787 - sensitivity: 0.5543 - val_auc: 0.6653 - val_loss: 0.6673 - val_sensitivity: 0.6298\n",
      "Epoch 7/20\n",
      "\u001b[1m24/24\u001b[0m \u001b[32m━━━━━━━━━━━━━━━━━━━━\u001b[0m\u001b[37m\u001b[0m \u001b[1m0s\u001b[0m 11ms/step - auc: 0.6155 - loss: 0.6774 - sensitivity: 0.5286 - val_auc: 0.6661 - val_loss: 0.6670 - val_sensitivity: 0.6298\n",
      "Epoch 8/20\n",
      "\u001b[1m24/24\u001b[0m \u001b[32m━━━━━━━━━━━━━━━━━━━━\u001b[0m\u001b[37m\u001b[0m \u001b[1m0s\u001b[0m 11ms/step - auc: 0.6424 - loss: 0.6729 - sensitivity: 0.5912 - val_auc: 0.6664 - val_loss: 0.6673 - val_sensitivity: 0.6255\n",
      "Epoch 9/20\n",
      "\u001b[1m24/24\u001b[0m \u001b[32m━━━━━━━━━━━━━━━━━━━━\u001b[0m\u001b[37m\u001b[0m \u001b[1m0s\u001b[0m 11ms/step - auc: 0.6128 - loss: 0.6814 - sensitivity: 0.5231 - val_auc: 0.6651 - val_loss: 0.6704 - val_sensitivity: 0.6383\n",
      "Epoch 10/20\n",
      "\u001b[1m24/24\u001b[0m \u001b[32m━━━━━━━━━━━━━━━━━━━━\u001b[0m\u001b[37m\u001b[0m \u001b[1m0s\u001b[0m 11ms/step - auc: 0.6315 - loss: 0.6865 - sensitivity: 0.5759 - val_auc: 0.6664 - val_loss: 0.6644 - val_sensitivity: 0.6213\n",
      "Epoch 11/20\n",
      "\u001b[1m24/24\u001b[0m \u001b[32m━━━━━━━━━━━━━━━━━━━━\u001b[0m\u001b[37m\u001b[0m \u001b[1m0s\u001b[0m 12ms/step - auc: 0.6462 - loss: 0.6642 - sensitivity: 0.5561 - val_auc: 0.6646 - val_loss: 0.6672 - val_sensitivity: 0.6213\n",
      "Epoch 12/20\n",
      "\u001b[1m24/24\u001b[0m \u001b[32m━━━━━━━━━━━━━━━━━━━━\u001b[0m\u001b[37m\u001b[0m \u001b[1m0s\u001b[0m 11ms/step - auc: 0.6225 - loss: 0.6893 - sensitivity: 0.5373 - val_auc: 0.6669 - val_loss: 0.6695 - val_sensitivity: 0.6255\n",
      "Epoch 13/20\n",
      "\u001b[1m24/24\u001b[0m \u001b[32m━━━━━━━━━━━━━━━━━━━━\u001b[0m\u001b[37m\u001b[0m \u001b[1m0s\u001b[0m 11ms/step - auc: 0.6322 - loss: 0.6810 - sensitivity: 0.5434 - val_auc: 0.6656 - val_loss: 0.6728 - val_sensitivity: 0.6383\n",
      "Epoch 14/20\n",
      "\u001b[1m24/24\u001b[0m \u001b[32m━━━━━━━━━━━━━━━━━━━━\u001b[0m\u001b[37m\u001b[0m \u001b[1m0s\u001b[0m 11ms/step - auc: 0.6552 - loss: 0.6733 - sensitivity: 0.6004 - val_auc: 0.6654 - val_loss: 0.6659 - val_sensitivity: 0.6213\n",
      "Epoch 15/20\n",
      "\u001b[1m24/24\u001b[0m \u001b[32m━━━━━━━━━━━━━━━━━━━━\u001b[0m\u001b[37m\u001b[0m \u001b[1m0s\u001b[0m 11ms/step - auc: 0.6252 - loss: 0.6757 - sensitivity: 0.5525 - val_auc: 0.6662 - val_loss: 0.6659 - val_sensitivity: 0.6213\n",
      "Epoch 16/20\n",
      "\u001b[1m24/24\u001b[0m \u001b[32m━━━━━━━━━━━━━━━━━━━━\u001b[0m\u001b[37m\u001b[0m \u001b[1m0s\u001b[0m 11ms/step - auc: 0.6361 - loss: 0.6790 - sensitivity: 0.5665 - val_auc: 0.6660 - val_loss: 0.6637 - val_sensitivity: 0.6128\n",
      "Epoch 17/20\n",
      "\u001b[1m24/24\u001b[0m \u001b[32m━━━━━━━━━━━━━━━━━━━━\u001b[0m\u001b[37m\u001b[0m \u001b[1m0s\u001b[0m 11ms/step - auc: 0.5998 - loss: 0.6900 - sensitivity: 0.5226 - val_auc: 0.6651 - val_loss: 0.6811 - val_sensitivity: 0.6383\n",
      "Epoch 18/20\n",
      "\u001b[1m24/24\u001b[0m \u001b[32m━━━━━━━━━━━━━━━━━━━━\u001b[0m\u001b[37m\u001b[0m \u001b[1m0s\u001b[0m 13ms/step - auc: 0.6363 - loss: 0.6790 - sensitivity: 0.5993 - val_auc: 0.6646 - val_loss: 0.6731 - val_sensitivity: 0.6340\n",
      "Epoch 19/20\n",
      "\u001b[1m24/24\u001b[0m \u001b[32m━━━━━━━━━━━━━━━━━━━━\u001b[0m\u001b[37m\u001b[0m \u001b[1m0s\u001b[0m 11ms/step - auc: 0.6302 - loss: 0.6888 - sensitivity: 0.5807 - val_auc: 0.6658 - val_loss: 0.6611 - val_sensitivity: 0.6170\n",
      "Epoch 20/20\n",
      "\u001b[1m24/24\u001b[0m \u001b[32m━━━━━━━━━━━━━━━━━━━━\u001b[0m\u001b[37m\u001b[0m \u001b[1m0s\u001b[0m 11ms/step - auc: 0.6248 - loss: 0.6797 - sensitivity: 0.5389 - val_auc: 0.6658 - val_loss: 0.6700 - val_sensitivity: 0.6298\n"
     ]
    }
   ],
   "source": [
    "# history = model.fit(\n",
    "#     X_train_res, y_train_res,  # old SMOTE‐resampled data\n",
    "#     validation_split=0.2,\n",
    "#     epochs=20,\n",
    "#     batch_size=256\n",
    "# )\n",
    "\n",
    "# New: train using class weights on IMBALANCED data\n",
    "history = model.fit(\n",
    "    X_train_res,  # which is now X_train.astype(np.float32)\n",
    "    y_train_res,  # which is now y_train.astype(np.float32)\n",
    "    validation_split=0.2,\n",
    "    epochs=20,\n",
    "    batch_size=256,\n",
    "    class_weight=class_weights\n",
    ")\n",
    "\n",
    "\n",
    "\n"
   ]
  },
  {
   "cell_type": "code",
   "execution_count": 8,
   "id": "eb92ff84-30a2-4fae-98de-3983fdd5b2e4",
   "metadata": {},
   "outputs": [
    {
     "name": "stdout",
     "output_type": "stream",
     "text": [
      "Test loss=0.6752, AUC=0.6537, Sensitivity=0.6221\n"
     ]
    }
   ],
   "source": [
    "loss, auc, sensitivity = model.evaluate(X_test, y_test, verbose=0)\n",
    "print(f\"Test loss={loss:.4f}, AUC={auc:.4f}, Sensitivity={sensitivity:.4f}\")\n",
    "\n"
   ]
  },
  {
   "cell_type": "code",
   "execution_count": 9,
   "id": "270b71a1-7e22-48ea-8228-c2cffe8075cd",
   "metadata": {},
   "outputs": [
    {
     "name": "stdout",
     "output_type": "stream",
     "text": [
      "\u001b[1m60/60\u001b[0m \u001b[32m━━━━━━━━━━━━━━━━━━━━\u001b[0m\u001b[37m\u001b[0m \u001b[1m0s\u001b[0m 1ms/step  \n",
      "Test accuracy: 0.5997\n"
     ]
    }
   ],
   "source": [
    "from sklearn.metrics import accuracy_score\n",
    "\n",
    "# predicted probabilities\n",
    "y_pred_prob = model.predict(X_test)\n",
    "\n",
    "# Convert to class labels using 0.5 cutoff\n",
    "y_pred = (y_pred_prob >= 0.5).astype(int).reshape(-1)\n",
    "\n",
    "# Compute accuracy\n",
    "acc = accuracy_score(y_test, y_pred)\n",
    "print(f\"Test accuracy: {acc:.4f}\")\n"
   ]
  },
  {
   "cell_type": "code",
   "execution_count": 10,
   "id": "b29aae47-d3be-48f2-b2a0-1c2f26acc326",
   "metadata": {},
   "outputs": [
    {
     "name": "stdout",
     "output_type": "stream",
     "text": [
      "Thresh  Sensitivity  Specificity  Accuracy\n",
      " 0.10         1.000         0.000       0.160\n",
      " 0.15         1.000         0.000       0.160\n",
      " 0.20         0.997         0.022       0.178\n",
      " 0.25         0.984         0.079       0.224\n",
      " 0.30         0.954         0.167       0.293\n",
      " 0.35         0.915         0.251       0.358\n",
      " 0.40         0.840         0.349       0.427\n",
      " 0.45         0.736         0.467       0.510\n",
      " 0.50         0.622         0.595       0.600\n",
      " 0.55         0.495         0.699       0.666\n",
      " 0.60         0.358         0.805       0.733\n",
      " 0.65         0.241         0.890       0.786\n",
      " 0.70         0.173         0.939       0.816\n",
      " 0.75         0.114         0.966       0.830\n",
      " 0.80         0.068         0.986       0.839\n",
      " 0.85         0.046         0.989       0.838\n",
      " 0.90         0.020         0.993       0.837\n"
     ]
    }
   ],
   "source": [
    "from sklearn.metrics import confusion_matrix\n",
    "import numpy as np\n",
    "\n",
    "def metrics_at_thresh(y_true, y_prob, thresh):\n",
    "    \"\"\"\n",
    "    Returns sensitivity (recall), specificity, and accuracy\n",
    "    at a given probability threshold.\n",
    "    \"\"\"\n",
    "    y_pred = (y_prob >= thresh).astype(int).reshape(-1)\n",
    "    tn, fp, fn, tp = confusion_matrix(y_true, y_pred).ravel()\n",
    "    sensitivity = tp / (tp + fn) if (tp + fn) > 0 else 0\n",
    "    specificity = tn / (tn + fp) if (tn + fp) > 0 else 0\n",
    "    accuracy    = (tp + tn) / (tp + tn + fp + fn)\n",
    "    return sensitivity, specificity, accuracy\n",
    "\n",
    "print(\"Thresh  Sensitivity  Specificity  Accuracy\")\n",
    "for t in np.arange(0.1, 0.91, 0.05):\n",
    "    sens, spec, acc = metrics_at_thresh(y_test, y_pred_prob, t)\n",
    "    print(f\"{t:5.2f}    {sens:10.3f}    {spec:10.3f}    {acc:8.3f}\")\n"
   ]
  },
  {
   "cell_type": "code",
   "execution_count": 11,
   "id": "c597dcb0-1798-4de6-970d-c460d59eefdb",
   "metadata": {},
   "outputs": [
    {
     "data": {
      "image/png": "[encoded data removed]",
      "text/plain": [
       "<Figure size 600x400 with 1 Axes>"
      ]
     },
     "metadata": {},
     "output_type": "display_data"
    }
   ],
   "source": [
    "from sklearn.metrics import roc_curve, auc\n",
    "import matplotlib.pyplot as plt\n",
    "\n",
    "# 1. Compute FPR, TPR, and thresholds for ROC\n",
    "fpr, tpr, roc_thresh = roc_curve(y_test, y_pred_prob)\n",
    "roc_auc_val = auc(fpr, tpr)\n",
    "\n",
    "# 2. Plot the ROC curve\n",
    "plt.figure(figsize=(6, 4))\n",
    "plt.plot(fpr, tpr, label=f\"AUC = {roc_auc_val:.3f}\")\n",
    "plt.plot([0, 1], [0, 1], 'k--', label=\"Random (AUC = 0.500)\")\n",
    "plt.xlabel(\"False Positive Rate\")\n",
    "plt.ylabel(\"True Positive Rate (Recall)\")\n",
    "plt.title(\"ROC Curve – Lending Club Model\")\n",
    "plt.legend(loc=\"lower right\")\n",
    "plt.tight_layout()\n",
    "plt.show()\n"
   ]
  },
  {
   "cell_type": "code",
   "execution_count": 12,
   "id": "a7f0388d-21db-4768-ae95-325bb6b43b6b",
   "metadata": {},
   "outputs": [
    {
     "data": {
      "image/png": "[encoded data removed]",
      "text/plain": [
       "<Figure size 600x400 with 1 Axes>"
      ]
     },
     "metadata": {},
     "output_type": "display_data"
    }
   ],
   "source": [
    "from sklearn.metrics import precision_recall_curve\n",
    "\n",
    "# 1. Compute precision, recall, and thresholds\n",
    "precision, recall, pr_thresh = precision_recall_curve(y_test, y_pred_prob)\n",
    "\n",
    "# 2. Plot the PR curve\n",
    "plt.figure(figsize=(6, 4))\n",
    "plt.plot(recall, precision)\n",
    "plt.xlabel(\"Recall\")\n",
    "plt.ylabel(\"Precision\")\n",
    "plt.title(\"Precision–Recall Curve – Lending Club Model\")\n",
    "plt.tight_layout()\n",
    "plt.show()\n"
   ]
  },
  {
   "cell_type": "code",
   "execution_count": 13,
   "id": "517901dd-0f30-41f6-8f2f-6a7c88bcd950",
   "metadata": {},
   "outputs": [
    {
     "name": "stdout",
     "output_type": "stream",
     "text": [
      "   first_layer  second_layer  dropout1  dropout2  test_auc  test_sensitivity\n",
      "6          128            64       0.2       0.2  0.655935          0.573290\n",
      "3           64            64       0.3       0.2  0.655790          0.576547\n",
      "1           64            32       0.3       0.2  0.655568          0.612378\n",
      "4          128            32       0.2       0.2  0.655396          0.628664\n",
      "5          128            32       0.3       0.2  0.655322          0.644951\n",
      "0           64            32       0.2       0.2  0.654691          0.609121\n",
      "2           64            64       0.2       0.2  0.654199          0.579805\n",
      "7          128            64       0.3       0.2  0.653996          0.612378\n"
     ]
    }
   ],
   "source": [
    "# === Hyperparameter Grid Search (Manual) ===\n",
    "\n",
    "from tensorflow import keras\n",
    "from tensorflow.keras import layers, regularizers\n",
    "import pandas as pd\n",
    "\n",
    "# 1) Define the small grid of hyperparameters\n",
    "first_layers  = [64, 128]\n",
    "second_layers = [32, 64]\n",
    "dropout_pairs = [(0.2, 0.2), (0.3, 0.2)]\n",
    "\n",
    "results = []\n",
    "\n",
    "# 2) Loop over each combination\n",
    "for u1 in first_layers:\n",
    "    for u2 in second_layers:\n",
    "        for d1, d2 in dropout_pairs:\n",
    "\n",
    "            # Build a variant of the model\n",
    "            def make_model_hp(input_dim):\n",
    "                m = keras.Sequential([\n",
    "                    layers.Input(shape=(input_dim,)),\n",
    "                    layers.Dense(u1, activation='relu',\n",
    "                                 kernel_regularizer=regularizers.l2(1e-4)),\n",
    "                    layers.Dropout(d1),\n",
    "                    layers.Dense(u2, activation='relu',\n",
    "                                 kernel_regularizer=regularizers.l2(1e-4)),\n",
    "                    layers.Dropout(d2),\n",
    "                    layers.Dense(1, activation='sigmoid'),\n",
    "                ])\n",
    "                m.compile(\n",
    "                    optimizer='adam',\n",
    "                    loss='binary_crossentropy',\n",
    "                    metrics=[keras.metrics.AUC(name='auc'),\n",
    "                             keras.metrics.Recall(name='sensitivity')]\n",
    "                )\n",
    "                return m\n",
    "\n",
    "            # Instantiate & train\n",
    "            model_hp = make_model_hp(X_train_res.shape[1])\n",
    "            model_hp.fit(\n",
    "                X_train_res, y_train_res,\n",
    "                validation_split=0.2,\n",
    "                epochs=20,\n",
    "                batch_size=256,\n",
    "                class_weight=class_weights,\n",
    "                verbose=0\n",
    "            )\n",
    "\n",
    "            # Evaluate on the test set\n",
    "            loss, auc_val, sens_val = model_hp.evaluate(X_test, y_test, verbose=0)\n",
    "\n",
    "            # Record the results\n",
    "            results.append({\n",
    "                'first_layer': u1,\n",
    "                'second_layer': u2,\n",
    "                'dropout1': d1,\n",
    "                'dropout2': d2,\n",
    "                'test_auc': auc_val,\n",
    "                'test_sensitivity': sens_val\n",
    "            })\n",
    "\n",
    "# 3) Summarize and display the results\n",
    "df_results = pd.DataFrame(results).sort_values('test_auc', ascending=False)\n",
    "print(df_results)\n"
   ]
  },
  {
   "cell_type": "code",
   "execution_count": 14,
   "id": "2bcb3bbe-5528-475c-9912-5075d073c779",
   "metadata": {},
   "outputs": [
    {
     "name": "stdout",
     "output_type": "stream",
     "text": [
      "Epoch 1/40\n",
      "\u001b[1m24/24\u001b[0m \u001b[32m━━━━━━━━━━━━━━━━━━━━\u001b[0m\u001b[37m\u001b[0m \u001b[1m1s\u001b[0m 27ms/step - auc: 0.5287 - loss: 0.7077 - sensitivity: 0.5017 - val_auc: 0.6663 - val_loss: 0.6869 - val_sensitivity: 0.6468\n",
      "Epoch 2/40\n",
      "\u001b[1m24/24\u001b[0m \u001b[32m━━━━━━━━━━━━━━━━━━━━\u001b[0m\u001b[37m\u001b[0m \u001b[1m0s\u001b[0m 12ms/step - auc: 0.6234 - loss: 0.6830 - sensitivity: 0.5630 - val_auc: 0.6635 - val_loss: 0.6740 - val_sensitivity: 0.6255\n",
      "Epoch 3/40\n",
      "\u001b[1m24/24\u001b[0m \u001b[32m━━━━━━━━━━━━━━━━━━━━\u001b[0m\u001b[37m\u001b[0m \u001b[1m0s\u001b[0m 12ms/step - auc: 0.6283 - loss: 0.6762 - sensitivity: 0.5849 - val_auc: 0.6664 - val_loss: 0.6704 - val_sensitivity: 0.6298\n",
      "Epoch 4/40\n",
      "\u001b[1m24/24\u001b[0m \u001b[32m━━━━━━━━━━━━━━━━━━━━\u001b[0m\u001b[37m\u001b[0m \u001b[1m0s\u001b[0m 11ms/step - auc: 0.6454 - loss: 0.6736 - sensitivity: 0.5848 - val_auc: 0.6652 - val_loss: 0.6697 - val_sensitivity: 0.6213\n",
      "Epoch 5/40\n",
      "\u001b[1m24/24\u001b[0m \u001b[32m━━━━━━━━━━━━━━━━━━━━\u001b[0m\u001b[37m\u001b[0m \u001b[1m0s\u001b[0m 12ms/step - auc: 0.6341 - loss: 0.6800 - sensitivity: 0.5706 - val_auc: 0.6661 - val_loss: 0.6733 - val_sensitivity: 0.6340\n",
      "Epoch 6/40\n",
      "\u001b[1m24/24\u001b[0m \u001b[32m━━━━━━━━━━━━━━━━━━━━\u001b[0m\u001b[37m\u001b[0m \u001b[1m0s\u001b[0m 12ms/step - auc: 0.6040 - loss: 0.6986 - sensitivity: 0.5254 - val_auc: 0.6665 - val_loss: 0.6808 - val_sensitivity: 0.6383\n",
      "Final Test loss=0.6925, AUC=0.6550, Sensitivity=0.6450\n"
     ]
    }
   ],
   "source": [
    "from tensorflow.keras.callbacks import EarlyStopping\n",
    "\n",
    "# === Final Model: 64→64 with dropout (0.3,0.2), tuned for sensitivity ===\n",
    "\n",
    "def make_model_final(input_dim):\n",
    "    m = keras.Sequential([\n",
    "        layers.Input(shape=(input_dim,)),\n",
    "        layers.Dense(64, activation='relu',\n",
    "                     kernel_regularizer=regularizers.l2(1e-4)),\n",
    "        layers.Dropout(0.3),\n",
    "        layers.Dense(64, activation='relu',\n",
    "                     kernel_regularizer=regularizers.l2(1e-4)),\n",
    "        layers.Dropout(0.2),\n",
    "        layers.Dense(1, activation='sigmoid'),\n",
    "    ])\n",
    "    m.compile(\n",
    "        optimizer=keras.optimizers.Adam(learning_rate=1e-3),\n",
    "        loss='binary_crossentropy',\n",
    "        metrics=[keras.metrics.AUC(name='auc'),\n",
    "                 keras.metrics.Recall(name='sensitivity')]\n",
    "    )\n",
    "    return m\n",
    "\n",
    "# Instantiate\n",
    "model_final = make_model_final(X_train_res.shape[1])\n",
    "\n",
    "# Use EarlyStopping to avoid overfitting\n",
    "early_stop = EarlyStopping(\n",
    "    monitor='val_sensitivity',  # we care most about recall\n",
    "    mode='max',\n",
    "    patience=5,\n",
    "    restore_best_weights=True\n",
    ")\n",
    "\n",
    "# Train for up to 40 epochs\n",
    "history_final = model_final.fit(\n",
    "    X_train_res, y_train_res,\n",
    "    validation_split=0.2,\n",
    "    epochs=40,\n",
    "    batch_size=256,\n",
    "    class_weight=class_weights,\n",
    "    callbacks=[early_stop],\n",
    "    verbose=1\n",
    ")\n",
    "\n",
    "# Evaluate on test\n",
    "loss_f, auc_f, sens_f = model_final.evaluate(X_test, y_test, verbose=0)\n",
    "print(f\"Final Test loss={loss_f:.4f}, AUC={auc_f:.4f}, Sensitivity={sens_f:.4f}\")\n"
   ]
  },
  {
   "cell_type": "code",
   "execution_count": null,
   "id": "892cc914-2c90-4c9e-9c4a-eb424d8aeba7",
   "metadata": {},
   "outputs": [],
   "source": []
  }
 ],
 "metadata": {
  "kernelspec": {
   "display_name": "Python 3 (ipykernel)",
   "language": "python",
   "name": "python3"
  },
  "language_info": {
   "codemirror_mode": {
    "name": "ipython",
    "version": 3
   },
   "file_extension": ".py",
   "mimetype": "text/x-python",
   "name": "python",
   "nbconvert_exporter": "python",
   "pygments_lexer": "ipython3",
   "version": "3.10.16"
  }
 },
 "nbformat": 4,
 "nbformat_minor": 5
}
