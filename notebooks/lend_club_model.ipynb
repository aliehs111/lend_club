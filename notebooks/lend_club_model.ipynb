{
 "cells": [
  {
   "cell_type": "code",
   "execution_count": 1,
   "id": "78a954a7-c87d-4d78-a359-dbfc666fc6b2",
   "metadata": {},
   "outputs": [],
   "source": [
    "import pandas as pd\n",
    "import numpy as np\n",
    "from sklearn.model_selection import train_test_split\n",
    "from imblearn.over_sampling import SMOTE\n",
    "from tensorflow import keras\n",
    "from tensorflow.keras import layers, regularizers\n",
    "\n",
    "# Load the “ready” CSV you exported in EDA notebook\n",
    "df = pd.read_csv('../data/loan_data_ready.csv')\n",
    "\n",
    "\n"
   ]
  },
  {
   "cell_type": "code",
   "execution_count": 11,
   "id": "3193e865-3cc7-4de6-9e85-02a65076a028",
   "metadata": {},
   "outputs": [
    {
     "name": "stdout",
     "output_type": "stream",
     "text": [
      "Features used: ['credit.policy', 'int.rate', 'installment', 'log.annual.inc', 'dti', 'fico', 'revol.util', 'inq.last.6mths', 'delinq.2yrs', 'pub.rec', 'revol_bal_log', 'cr_line_years', 'cr_line_years_log', 'pub_rec_flag', 'inquiry_rate', 'purpose_credit_card', 'purpose_debt_consolidation', 'purpose_educational', 'purpose_home_improvement', 'purpose_major_purchase', 'purpose_small_business']\n",
      "Target balance:\n",
      " not.fully.paid\n",
      "0    0.839946\n",
      "1    0.160054\n",
      "Name: proportion, dtype: float64\n"
     ]
    }
   ],
   "source": [
    "# Define features & target from the ready CSV\n",
    "target_col = 'not.fully.paid'\n",
    "\n",
    "# Drop raw, untransformed features\n",
    "df = df.drop(columns=['days.with.cr.line', 'revol.bal'])\n",
    "\n",
    "# Now pick up every remaining column except the target as a feature\n",
    "feature_cols = [c for c in df.columns if c != target_col]\n",
    "\n",
    "X = df[feature_cols]\n",
    "y = df[target_col]\n",
    "\n",
    "print(\"Features used:\", feature_cols)\n",
    "print(\"Target balance:\\n\", y.value_counts(normalize=True))\n",
    "\n",
    "\n",
    "\n",
    "\n"
   ]
  },
  {
   "cell_type": "code",
   "execution_count": 12,
   "id": "922bbee2-9938-4711-80b9-8a03dce50bfc",
   "metadata": {},
   "outputs": [
    {
     "name": "stdout",
     "output_type": "stream",
     "text": [
      "Train target balance:\n",
      " not.fully.paid\n",
      "0    0.83999\n",
      "1    0.16001\n",
      "Name: proportion, dtype: float64\n",
      "Test  target balance:\n",
      " not.fully.paid\n",
      "0    0.83977\n",
      "1    0.16023\n",
      "Name: proportion, dtype: float64\n"
     ]
    }
   ],
   "source": [
    "from sklearn.model_selection import train_test_split\n",
    "\n",
    "# Use an 80/20 split, stratified on the target\n",
    "X_train, X_test, y_train, y_test = train_test_split(\n",
    "    X, y,\n",
    "    stratify=y,\n",
    "    test_size=0.2,\n",
    "    random_state=42\n",
    ")\n",
    "\n",
    "print(\"Train target balance:\\n\", y_train.value_counts(normalize=True))\n",
    "print(\"Test  target balance:\\n\", y_test.value_counts(normalize=True))\n",
    "\n",
    "\n",
    "\n"
   ]
  },
  {
   "cell_type": "code",
   "execution_count": 13,
   "id": "ef404e56-067e-4291-bad3-ded0d729df39",
   "metadata": {},
   "outputs": [
    {
     "name": "stdout",
     "output_type": "stream",
     "text": [
      "Resampled train balance:\n",
      " not.fully.paid\n",
      "0.0    0.5\n",
      "1.0    0.5\n",
      "Name: proportion, dtype: float64\n",
      "Shapes: (12872, 21) (1916, 21)\n"
     ]
    },
    {
     "name": "stderr",
     "output_type": "stream",
     "text": [
      "/Users/sheilamcgovern/anaconda3/lib/python3.11/site-packages/sklearn/base.py:474: FutureWarning: `BaseEstimator._validate_data` is deprecated in 1.6 and will be removed in 1.7. Use `sklearn.utils.validation.validate_data` instead. This function becomes public and is part of the scikit-learn developer API.\n",
      "  warnings.warn(\n"
     ]
    }
   ],
   "source": [
    "from imblearn.over_sampling import SMOTE\n",
    "import numpy as np\n",
    "\n",
    "# 1) Apply SMOTE on training data only\n",
    "sm = SMOTE(random_state=42)\n",
    "X_train_res, y_train_res = sm.fit_resample(X_train, y_train)\n",
    "\n",
    "# 2) Cast to float32 for TensorFlow\n",
    "X_train_res = X_train_res.astype(np.float32)\n",
    "y_train_res = y_train_res.astype(np.float32)\n",
    "X_test      = X_test.astype(np.float32)\n",
    "y_test      = y_test.astype(np.float32)\n",
    "\n",
    "print(\"Resampled train balance:\\n\", y_train_res.value_counts(normalize=True))\n",
    "print(\"Shapes:\", X_train_res.shape, X_test.shape)\n",
    "\n",
    "\n"
   ]
  },
  {
   "cell_type": "code",
   "execution_count": 14,
   "id": "3f5c1ca5-8663-49fb-9359-170a20c84e56",
   "metadata": {},
   "outputs": [
    {
     "name": "stdout",
     "output_type": "stream",
     "text": [
      "Model: \"sequential_1\"\n",
      "_________________________________________________________________\n",
      " Layer (type)                Output Shape              Param #   \n",
      "=================================================================\n",
      " dense_3 (Dense)             (None, 64)                1408      \n",
      "                                                                 \n",
      " dropout_2 (Dropout)         (None, 64)                0         \n",
      "                                                                 \n",
      " dense_4 (Dense)             (None, 32)                2080      \n",
      "                                                                 \n",
      " dropout_3 (Dropout)         (None, 32)                0         \n",
      "                                                                 \n",
      " dense_5 (Dense)             (None, 1)                 33        \n",
      "                                                                 \n",
      "=================================================================\n",
      "Total params: 3,521\n",
      "Trainable params: 3,521\n",
      "Non-trainable params: 0\n",
      "_________________________________________________________________\n"
     ]
    }
   ],
   "source": [
    "from tensorflow import keras\n",
    "from tensorflow.keras import layers, regularizers\n",
    "\n",
    "def make_model(input_dim):\n",
    "    model = keras.Sequential([\n",
    "        layers.Input(shape=(input_dim,)),\n",
    "        layers.Dense(64, activation='relu',\n",
    "                     kernel_regularizer=regularizers.l2(1e-4)),\n",
    "        layers.Dropout(0.3),\n",
    "        layers.Dense(32, activation='relu',\n",
    "                     kernel_regularizer=regularizers.l2(1e-4)),\n",
    "        layers.Dropout(0.2),\n",
    "        layers.Dense(1, activation='sigmoid'),\n",
    "    ])\n",
    "    model.compile(\n",
    "        optimizer='adam',\n",
    "        loss='binary_crossentropy',\n",
    "        metrics=[keras.metrics.AUC(name='auc'),\n",
    "                 keras.metrics.Recall(name='sensitivity')]\n",
    "    )\n",
    "    return model\n",
    "\n",
    "input_dim = X_train_res.shape[1]\n",
    "model     = make_model(input_dim)\n",
    "model.summary()\n",
    "\n",
    "\n"
   ]
  },
  {
   "cell_type": "code",
   "execution_count": 15,
   "id": "04f5630e-92c3-44d8-93b8-fbe4be232282",
   "metadata": {},
   "outputs": [
    {
     "name": "stdout",
     "output_type": "stream",
     "text": [
      "Epoch 1/20\n"
     ]
    },
    {
     "name": "stderr",
     "output_type": "stream",
     "text": [
      "2025-05-28 14:58:07.748734: W tensorflow/tsl/platform/profile_utils/cpu_utils.cc:128] Failed to get CPU frequency: 0 Hz\n"
     ]
    },
    {
     "name": "stdout",
     "output_type": "stream",
     "text": [
      "41/41 [==============================] - 1s 3ms/step - loss: 0.8023 - auc: 0.5331 - sensitivity: 0.3245 - val_loss: 0.9656 - val_auc: 0.0000e+00 - val_sensitivity: 0.1231\n",
      "Epoch 2/20\n",
      "41/41 [==============================] - 0s 1ms/step - loss: 0.6777 - auc: 0.5919 - sensitivity: 0.2932 - val_loss: 0.8393 - val_auc: 0.0000e+00 - val_sensitivity: 0.2085\n",
      "Epoch 3/20\n",
      "41/41 [==============================] - 0s 1ms/step - loss: 0.6593 - auc: 0.6121 - sensitivity: 0.2854 - val_loss: 0.8645 - val_auc: 0.0000e+00 - val_sensitivity: 0.2132\n",
      "Epoch 4/20\n",
      "41/41 [==============================] - 0s 1ms/step - loss: 0.6475 - auc: 0.6261 - sensitivity: 0.2562 - val_loss: 0.8079 - val_auc: 0.0000e+00 - val_sensitivity: 0.3460\n",
      "Epoch 5/20\n",
      "41/41 [==============================] - 0s 1ms/step - loss: 0.6384 - auc: 0.6440 - sensitivity: 0.2906 - val_loss: 0.8315 - val_auc: 0.0000e+00 - val_sensitivity: 0.3002\n",
      "Epoch 6/20\n",
      "41/41 [==============================] - 0s 1ms/step - loss: 0.6286 - auc: 0.6635 - sensitivity: 0.2888 - val_loss: 0.8403 - val_auc: 0.0000e+00 - val_sensitivity: 0.3414\n",
      "Epoch 7/20\n",
      "41/41 [==============================] - 0s 1ms/step - loss: 0.6301 - auc: 0.6601 - sensitivity: 0.2813 - val_loss: 0.8229 - val_auc: 0.0000e+00 - val_sensitivity: 0.3518\n",
      "Epoch 8/20\n",
      "41/41 [==============================] - 0s 1ms/step - loss: 0.6255 - auc: 0.6693 - sensitivity: 0.3025 - val_loss: 0.8602 - val_auc: 0.0000e+00 - val_sensitivity: 0.3177\n",
      "Epoch 9/20\n",
      "41/41 [==============================] - 0s 1ms/step - loss: 0.6191 - auc: 0.6799 - sensitivity: 0.3051 - val_loss: 0.8361 - val_auc: 0.0000e+00 - val_sensitivity: 0.3456\n",
      "Epoch 10/20\n",
      "41/41 [==============================] - 0s 1ms/step - loss: 0.6163 - auc: 0.6838 - sensitivity: 0.3341 - val_loss: 0.8171 - val_auc: 0.0000e+00 - val_sensitivity: 0.3814\n",
      "Epoch 11/20\n",
      "41/41 [==============================] - 0s 1ms/step - loss: 0.6116 - auc: 0.6903 - sensitivity: 0.3468 - val_loss: 0.8366 - val_auc: 0.0000e+00 - val_sensitivity: 0.3627\n",
      "Epoch 12/20\n",
      "41/41 [==============================] - 0s 1ms/step - loss: 0.6115 - auc: 0.6903 - sensitivity: 0.3543 - val_loss: 0.8736 - val_auc: 0.0000e+00 - val_sensitivity: 0.3355\n",
      "Epoch 13/20\n",
      "41/41 [==============================] - 0s 1ms/step - loss: 0.6089 - auc: 0.6969 - sensitivity: 0.3528 - val_loss: 0.8499 - val_auc: 0.0000e+00 - val_sensitivity: 0.3662\n",
      "Epoch 14/20\n",
      "41/41 [==============================] - 0s 1ms/step - loss: 0.6047 - auc: 0.7036 - sensitivity: 0.3805 - val_loss: 0.8522 - val_auc: 0.0000e+00 - val_sensitivity: 0.3814\n",
      "Epoch 15/20\n",
      "41/41 [==============================] - 0s 1ms/step - loss: 0.6060 - auc: 0.7024 - sensitivity: 0.3574 - val_loss: 0.8071 - val_auc: 0.0000e+00 - val_sensitivity: 0.4454\n",
      "Epoch 16/20\n",
      "41/41 [==============================] - 0s 1ms/step - loss: 0.6020 - auc: 0.7085 - sensitivity: 0.3929 - val_loss: 0.8484 - val_auc: 0.0000e+00 - val_sensitivity: 0.4031\n",
      "Epoch 17/20\n",
      "41/41 [==============================] - 0s 1ms/step - loss: 0.6008 - auc: 0.7109 - sensitivity: 0.3823 - val_loss: 0.7945 - val_auc: 0.0000e+00 - val_sensitivity: 0.4551\n",
      "Epoch 18/20\n",
      "41/41 [==============================] - 0s 1ms/step - loss: 0.5984 - auc: 0.7130 - sensitivity: 0.4134 - val_loss: 0.8705 - val_auc: 0.0000e+00 - val_sensitivity: 0.3903\n",
      "Epoch 19/20\n",
      "41/41 [==============================] - 0s 1ms/step - loss: 0.5981 - auc: 0.7128 - sensitivity: 0.3836 - val_loss: 0.7988 - val_auc: 0.0000e+00 - val_sensitivity: 0.4361\n",
      "Epoch 20/20\n",
      "41/41 [==============================] - 0s 1ms/step - loss: 0.5941 - auc: 0.7194 - sensitivity: 0.4077 - val_loss: 0.8068 - val_auc: 0.0000e+00 - val_sensitivity: 0.4268\n"
     ]
    }
   ],
   "source": [
    "history = model.fit(\n",
    "    X_train_res, y_train_res,\n",
    "    validation_split=0.2,\n",
    "    epochs=20,\n",
    "    batch_size=256\n",
    ")\n",
    "\n",
    "\n"
   ]
  },
  {
   "cell_type": "code",
   "execution_count": 16,
   "id": "eb92ff84-30a2-4fae-98de-3983fdd5b2e4",
   "metadata": {},
   "outputs": [
    {
     "name": "stdout",
     "output_type": "stream",
     "text": [
      "Test loss=0.5141, AUC=0.6587, Sensitivity=0.2866\n"
     ]
    }
   ],
   "source": [
    "loss, auc, sensitivity = model.evaluate(X_test, y_test, verbose=0)\n",
    "print(f\"Test loss={loss:.4f}, AUC={auc:.4f}, Sensitivity={sensitivity:.4f}\")\n",
    "\n"
   ]
  },
  {
   "cell_type": "code",
   "execution_count": null,
   "id": "270b71a1-7e22-48ea-8228-c2cffe8075cd",
   "metadata": {},
   "outputs": [],
   "source": []
  }
 ],
 "metadata": {
  "kernelspec": {
   "display_name": "Python 3 (ipykernel)",
   "language": "python",
   "name": "python3"
  },
  "language_info": {
   "codemirror_mode": {
    "name": "ipython",
    "version": 3
   },
   "file_extension": ".py",
   "mimetype": "text/x-python",
   "name": "python",
   "nbconvert_exporter": "python",
   "pygments_lexer": "ipython3",
   "version": "3.11.0"
  }
 },
 "nbformat": 4,
 "nbformat_minor": 5
}
