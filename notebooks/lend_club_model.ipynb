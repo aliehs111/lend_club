{
 "cells": [
  {
   "cell_type": "code",
   "execution_count": 1,
   "id": "78a954a7-c87d-4d78-a359-dbfc666fc6b2",
   "metadata": {},
   "outputs": [],
   "source": [
    "import pandas as pd\n",
    "import numpy as np\n",
    "from sklearn.model_selection import train_test_split\n",
    "from imblearn.over_sampling import SMOTE\n",
    "from tensorflow import keras\n",
    "from tensorflow.keras import layers, regularizers\n",
    "\n",
    "# Load the cleaned CSV exported in EDA notebook\n",
    "# READY_FILE = '../data/loan_data_ready.csv'\n",
    "\n",
    "READY_FILE = '../data/loan_data_ready_raw.csv'\n",
    "df = pd.read_csv(READY_FILE)\n",
    "\n"
   ]
  },
  {
   "cell_type": "code",
   "execution_count": 2,
   "id": "3193e865-3cc7-4de6-9e85-02a65076a028",
   "metadata": {},
   "outputs": [
    {
     "name": "stdout",
     "output_type": "stream",
     "text": [
      "Features used: ['credit.policy', 'int.rate', 'installment', 'log.annual.inc', 'dti', 'fico', 'revol.util', 'inq.last.6mths', 'delinq.2yrs', 'pub.rec', 'cr_line_years', 'pub_rec_flag', 'inquiry_rate', 'purpose_credit_card', 'purpose_debt_consolidation', 'purpose_educational', 'purpose_home_improvement', 'purpose_major_purchase', 'purpose_small_business']\n",
      "Target balance:\n",
      " not.fully.paid\n",
      "0    0.839946\n",
      "1    0.160054\n",
      "Name: proportion, dtype: float64\n"
     ]
    }
   ],
   "source": [
    "# Define features & target from the ready CSV\n",
    "target_col = 'not.fully.paid'\n",
    "\n",
    "# Drop raw, untransformed features\n",
    "# df = df.drop(columns=['days.with.cr.line', 'revol.bal'])\n",
    "\n",
    "# pick up every remaining column except the target as a feature\n",
    "feature_cols = [c for c in df.columns if c != target_col]\n",
    "\n",
    "X = df[feature_cols]\n",
    "y = df[target_col]\n",
    "\n",
    "print(\"Features used:\", feature_cols)\n",
    "print(\"Target balance:\\n\", y.value_counts(normalize=True))\n",
    "\n",
    "\n",
    "\n",
    "\n"
   ]
  },
  {
   "cell_type": "code",
   "execution_count": 3,
   "id": "922bbee2-9938-4711-80b9-8a03dce50bfc",
   "metadata": {},
   "outputs": [
    {
     "name": "stdout",
     "output_type": "stream",
     "text": [
      "Train target balance:\n",
      " not.fully.paid\n",
      "0    0.83999\n",
      "1    0.16001\n",
      "Name: proportion, dtype: float64\n",
      "Test  target balance:\n",
      " not.fully.paid\n",
      "0    0.83977\n",
      "1    0.16023\n",
      "Name: proportion, dtype: float64\n"
     ]
    }
   ],
   "source": [
    "from sklearn.model_selection import train_test_split\n",
    "\n",
    "# Use an 80/20 split, stratified on the target\n",
    "X_train, X_test, y_train, y_test = train_test_split(\n",
    "    X, y,\n",
    "    stratify=y,\n",
    "    test_size=0.2,\n",
    "    random_state=42\n",
    ")\n",
    "\n",
    "print(\"Train target balance:\\n\", y_train.value_counts(normalize=True))\n",
    "print(\"Test  target balance:\\n\", y_test.value_counts(normalize=True))\n",
    "\n",
    "\n",
    "\n"
   ]
  },
  {
   "cell_type": "code",
   "execution_count": 4,
   "id": "ef404e56-067e-4291-bad3-ded0d729df39",
   "metadata": {},
   "outputs": [
    {
     "name": "stdout",
     "output_type": "stream",
     "text": [
      "Using original train balance (no SMOTE):\n",
      "not.fully.paid\n",
      "0.0    0.83999\n",
      "1.0    0.16001\n",
      "Name: proportion, dtype: float64\n"
     ]
    }
   ],
   "source": [
    "# from imblearn.over_sampling import SMOTE\n",
    "import numpy as np\n",
    "\n",
    "# --- Commented out SMOTE to switch to class weights ---\n",
    "# sm = SMOTE(random_state=42)\n",
    "# X_train_res, y_train_res = sm.fit_resample(X_train, y_train)\n",
    "\n",
    "# Instead, use the original, imbalanced train data:\n",
    "X_train_res = X_train.astype(np.float32)\n",
    "y_train_res = y_train.astype(np.float32)\n",
    "X_test      = X_test.astype(np.float32)\n",
    "y_test      = y_test.astype(np.float32)\n",
    "\n",
    "print(\"Using original train balance (no SMOTE):\")\n",
    "print(y_train_res.value_counts(normalize=True))\n",
    "\n",
    "\n",
    "\n"
   ]
  },
  {
   "cell_type": "code",
   "execution_count": 5,
   "id": "16fba203-8f68-44f4-bf1d-57b360c38203",
   "metadata": {},
   "outputs": [
    {
     "name": "stdout",
     "output_type": "stream",
     "text": [
      "Class weights: {0: 0.5952454940957116, 1: 3.124796084828711}\n"
     ]
    }
   ],
   "source": [
    "from sklearn.utils import class_weight\n",
    "import numpy as np\n",
    "\n",
    "# Compute balanced class weights from the IMBALANCED y_train\n",
    "weights = class_weight.compute_class_weight(\n",
    "    class_weight='balanced',\n",
    "    classes=np.array([0, 1]),\n",
    "    y=y_train.values\n",
    ")\n",
    "class_weights = {0: weights[0], 1: weights[1]}\n",
    "print(\"Class weights:\", class_weights)\n"
   ]
  },
  {
   "cell_type": "code",
   "execution_count": 7,
   "id": "3f5c1ca5-8663-49fb-9359-170a20c84e56",
   "metadata": {},
   "outputs": [
    {
     "name": "stdout",
     "output_type": "stream",
     "text": [
      "Model: \"sequential\"\n",
      "_________________________________________________________________\n",
      " Layer (type)                Output Shape              Param #   \n",
      "=================================================================\n",
      " dense (Dense)               (None, 64)                1280      \n",
      "                                                                 \n",
      " dropout (Dropout)           (None, 64)                0         \n",
      "                                                                 \n",
      " dense_1 (Dense)             (None, 32)                2080      \n",
      "                                                                 \n",
      " dropout_1 (Dropout)         (None, 32)                0         \n",
      "                                                                 \n",
      " dense_2 (Dense)             (None, 1)                 33        \n",
      "                                                                 \n",
      "=================================================================\n",
      "Total params: 3,393\n",
      "Trainable params: 3,393\n",
      "Non-trainable params: 0\n",
      "_________________________________________________________________\n"
     ]
    }
   ],
   "source": [
    "from tensorflow import keras\n",
    "from tensorflow.keras import layers, regularizers\n",
    "\n",
    "def make_model(input_dim):\n",
    "    model = keras.Sequential([\n",
    "        layers.Input(shape=(input_dim,)),\n",
    "        layers.Dense(64, activation='relu',\n",
    "                     kernel_regularizer=regularizers.l2(1e-4)),\n",
    "        layers.Dropout(0.3),\n",
    "        layers.Dense(32, activation='relu',\n",
    "                     kernel_regularizer=regularizers.l2(1e-4)),\n",
    "        layers.Dropout(0.2),\n",
    "        layers.Dense(1, activation='sigmoid'),\n",
    "    ])\n",
    "    model.compile(\n",
    "        optimizer='adam',\n",
    "        loss='binary_crossentropy',\n",
    "        metrics= [keras.metrics.AUC(name='auc'),\n",
    "                 keras.metrics.Recall(name='sensitivity')]\n",
    "    )\n",
    "    return model\n",
    "\n",
    "input_dim = X_train_res.shape[1]\n",
    "model     = make_model(input_dim)\n",
    "model.summary()\n",
    "\n",
    "\n"
   ]
  },
  {
   "cell_type": "code",
   "execution_count": 8,
   "id": "7da80c2e-7be2-4b9c-a979-4cdb060010ec",
   "metadata": {},
   "outputs": [
    {
     "name": "stdout",
     "output_type": "stream",
     "text": [
      "Model: \"sequential_1\"\n",
      "_________________________________________________________________\n",
      " Layer (type)                Output Shape              Param #   \n",
      "=================================================================\n",
      " dense_3 (Dense)             (None, 64)                1280      \n",
      "                                                                 \n",
      " dropout_2 (Dropout)         (None, 64)                0         \n",
      "                                                                 \n",
      " dense_4 (Dense)             (None, 32)                2080      \n",
      "                                                                 \n",
      " dropout_3 (Dropout)         (None, 32)                0         \n",
      "                                                                 \n",
      " dense_5 (Dense)             (None, 1)                 33        \n",
      "                                                                 \n",
      "=================================================================\n",
      "Total params: 3,393\n",
      "Trainable params: 3,393\n",
      "Non-trainable params: 0\n",
      "_________________________________________________________________\n"
     ]
    }
   ],
   "source": [
    "# Re‐build a fresh model (new random weights)  \n",
    "input_dim = X_train_res.shape[1]  \n",
    "model     = make_model(input_dim)  \n",
    "model.summary()\n"
   ]
  },
  {
   "cell_type": "code",
   "execution_count": 9,
   "id": "04f5630e-92c3-44d8-93b8-fbe4be232282",
   "metadata": {},
   "outputs": [
    {
     "name": "stdout",
     "output_type": "stream",
     "text": [
      "Epoch 1/20\n"
     ]
    },
    {
     "name": "stderr",
     "output_type": "stream",
     "text": [
      "2025-06-02 16:06:03.279296: W tensorflow/tsl/platform/profile_utils/cpu_utils.cc:128] Failed to get CPU frequency: 0 Hz\n"
     ]
    },
    {
     "name": "stdout",
     "output_type": "stream",
     "text": [
      "24/24 [==============================] - 0s 5ms/step - loss: 0.6985 - auc: 0.5659 - sensitivity: 0.5610 - val_loss: 0.6540 - val_auc: 0.6622 - val_sensitivity: 0.5489\n",
      "Epoch 2/20\n",
      "24/24 [==============================] - 0s 1ms/step - loss: 0.6722 - auc: 0.6395 - sensitivity: 0.5540 - val_loss: 0.6416 - val_auc: 0.6678 - val_sensitivity: 0.5872\n",
      "Epoch 3/20\n",
      "24/24 [==============================] - 0s 1ms/step - loss: 0.6701 - auc: 0.6472 - sensitivity: 0.6014 - val_loss: 0.6436 - val_auc: 0.6714 - val_sensitivity: 0.6128\n",
      "Epoch 4/20\n",
      "24/24 [==============================] - 0s 1ms/step - loss: 0.6680 - auc: 0.6517 - sensitivity: 0.6357 - val_loss: 0.6386 - val_auc: 0.6723 - val_sensitivity: 0.6128\n",
      "Epoch 5/20\n",
      "24/24 [==============================] - 0s 1ms/step - loss: 0.6616 - auc: 0.6654 - sensitivity: 0.6176 - val_loss: 0.6373 - val_auc: 0.6742 - val_sensitivity: 0.6000\n",
      "Epoch 6/20\n",
      "24/24 [==============================] - 0s 1ms/step - loss: 0.6647 - auc: 0.6552 - sensitivity: 0.6357 - val_loss: 0.6444 - val_auc: 0.6766 - val_sensitivity: 0.6298\n",
      "Epoch 7/20\n",
      "24/24 [==============================] - 0s 1ms/step - loss: 0.6577 - auc: 0.6667 - sensitivity: 0.6630 - val_loss: 0.6350 - val_auc: 0.6744 - val_sensitivity: 0.6128\n",
      "Epoch 8/20\n",
      "24/24 [==============================] - 0s 1ms/step - loss: 0.6553 - auc: 0.6741 - sensitivity: 0.6690 - val_loss: 0.6314 - val_auc: 0.6741 - val_sensitivity: 0.6213\n",
      "Epoch 9/20\n",
      "24/24 [==============================] - 0s 1ms/step - loss: 0.6511 - auc: 0.6778 - sensitivity: 0.6731 - val_loss: 0.6345 - val_auc: 0.6763 - val_sensitivity: 0.6255\n",
      "Epoch 10/20\n",
      "24/24 [==============================] - 0s 1ms/step - loss: 0.6509 - auc: 0.6806 - sensitivity: 0.6640 - val_loss: 0.6395 - val_auc: 0.6770 - val_sensitivity: 0.6340\n",
      "Epoch 11/20\n",
      "24/24 [==============================] - 0s 1ms/step - loss: 0.6522 - auc: 0.6775 - sensitivity: 0.6670 - val_loss: 0.6408 - val_auc: 0.6789 - val_sensitivity: 0.6468\n",
      "Epoch 12/20\n",
      "24/24 [==============================] - 0s 1ms/step - loss: 0.6498 - auc: 0.6803 - sensitivity: 0.6509 - val_loss: 0.6329 - val_auc: 0.6791 - val_sensitivity: 0.6383\n",
      "Epoch 13/20\n",
      "24/24 [==============================] - 0s 1ms/step - loss: 0.6490 - auc: 0.6848 - sensitivity: 0.6660 - val_loss: 0.6299 - val_auc: 0.6800 - val_sensitivity: 0.6298\n",
      "Epoch 14/20\n",
      "24/24 [==============================] - 0s 1ms/step - loss: 0.6450 - auc: 0.6845 - sensitivity: 0.6620 - val_loss: 0.6344 - val_auc: 0.6802 - val_sensitivity: 0.6468\n",
      "Epoch 15/20\n",
      "24/24 [==============================] - 0s 1ms/step - loss: 0.6492 - auc: 0.6856 - sensitivity: 0.6811 - val_loss: 0.6275 - val_auc: 0.6793 - val_sensitivity: 0.6170\n",
      "Epoch 16/20\n",
      "24/24 [==============================] - 0s 1ms/step - loss: 0.6441 - auc: 0.6882 - sensitivity: 0.6731 - val_loss: 0.6288 - val_auc: 0.6796 - val_sensitivity: 0.6298\n",
      "Epoch 17/20\n",
      "24/24 [==============================] - 0s 1ms/step - loss: 0.6440 - auc: 0.6902 - sensitivity: 0.6771 - val_loss: 0.6320 - val_auc: 0.6787 - val_sensitivity: 0.6298\n",
      "Epoch 18/20\n",
      "24/24 [==============================] - 0s 1ms/step - loss: 0.6479 - auc: 0.6862 - sensitivity: 0.6710 - val_loss: 0.6330 - val_auc: 0.6809 - val_sensitivity: 0.6298\n",
      "Epoch 19/20\n",
      "24/24 [==============================] - 0s 1ms/step - loss: 0.6428 - auc: 0.6914 - sensitivity: 0.6549 - val_loss: 0.6296 - val_auc: 0.6811 - val_sensitivity: 0.6383\n",
      "Epoch 20/20\n",
      "24/24 [==============================] - 0s 1ms/step - loss: 0.6427 - auc: 0.6923 - sensitivity: 0.6831 - val_loss: 0.6419 - val_auc: 0.6821 - val_sensitivity: 0.6468\n"
     ]
    }
   ],
   "source": [
    "# history = model.fit(\n",
    "#     X_train_res, y_train_res,  # old SMOTE‐resampled data\n",
    "#     validation_split=0.2,\n",
    "#     epochs=20,\n",
    "#     batch_size=256\n",
    "# )\n",
    "\n",
    "# New: train using class weights on IMBALANCED data\n",
    "history = model.fit(\n",
    "    X_train_res,  # which is now X_train.astype(np.float32)\n",
    "    y_train_res,  # which is now y_train.astype(np.float32)\n",
    "    validation_split=0.2,\n",
    "    epochs=20,\n",
    "    batch_size=256,\n",
    "    class_weight=class_weights\n",
    ")\n",
    "\n",
    "\n",
    "\n"
   ]
  },
  {
   "cell_type": "code",
   "execution_count": 10,
   "id": "eb92ff84-30a2-4fae-98de-3983fdd5b2e4",
   "metadata": {},
   "outputs": [
    {
     "name": "stdout",
     "output_type": "stream",
     "text": [
      "Test loss=0.6398, AUC=0.6874, Sensitivity=0.6938\n"
     ]
    }
   ],
   "source": [
    "loss, auc, sensitivity = model.evaluate(X_test, y_test, verbose=0)\n",
    "print(f\"Test loss={loss:.4f}, AUC={auc:.4f}, Sensitivity={sensitivity:.4f}\")\n",
    "\n"
   ]
  },
  {
   "cell_type": "code",
   "execution_count": 11,
   "id": "270b71a1-7e22-48ea-8228-c2cffe8075cd",
   "metadata": {},
   "outputs": [
    {
     "name": "stdout",
     "output_type": "stream",
     "text": [
      "60/60 [==============================] - 0s 299us/step\n",
      "Test accuracy: 0.5986\n"
     ]
    }
   ],
   "source": [
    "from sklearn.metrics import accuracy_score\n",
    "\n",
    "# predicted probabilities\n",
    "y_pred_prob = model.predict(X_test)\n",
    "\n",
    "# Convert to class labels using 0.5 cutoff\n",
    "y_pred = (y_pred_prob >= 0.5).astype(int).reshape(-1)\n",
    "\n",
    "# Compute accuracy\n",
    "acc = accuracy_score(y_test, y_pred)\n",
    "print(f\"Test accuracy: {acc:.4f}\")\n"
   ]
  },
  {
   "cell_type": "code",
   "execution_count": 12,
   "id": "b29aae47-d3be-48f2-b2a0-1c2f26acc326",
   "metadata": {},
   "outputs": [
    {
     "name": "stdout",
     "output_type": "stream",
     "text": [
      "Thresh  Sensitivity  Specificity  Accuracy\n",
      " 0.10         1.000         0.008       0.167\n",
      " 0.15         0.997         0.049       0.201\n",
      " 0.20         0.990         0.092       0.236\n",
      " 0.25         0.974         0.146       0.279\n",
      " 0.30         0.958         0.201       0.323\n",
      " 0.35         0.925         0.267       0.372\n",
      " 0.40         0.879         0.332       0.420\n",
      " 0.45         0.818         0.423       0.486\n",
      " 0.50         0.694         0.580       0.599\n",
      " 0.55         0.485         0.740       0.699\n",
      " 0.60         0.342         0.860       0.777\n",
      " 0.65         0.231         0.931       0.819\n",
      " 0.70         0.117         0.969       0.832\n",
      " 0.75         0.055         0.987       0.838\n",
      " 0.80         0.023         0.995       0.839\n",
      " 0.85         0.013         0.998       0.840\n",
      " 0.90         0.003         0.998       0.839\n"
     ]
    }
   ],
   "source": [
    "from sklearn.metrics import confusion_matrix\n",
    "import numpy as np\n",
    "\n",
    "def metrics_at_thresh(y_true, y_prob, thresh):\n",
    "    \"\"\"\n",
    "    Returns sensitivity (recall), specificity, and accuracy\n",
    "    at a given probability threshold.\n",
    "    \"\"\"\n",
    "    y_pred = (y_prob >= thresh).astype(int).reshape(-1)\n",
    "    tn, fp, fn, tp = confusion_matrix(y_true, y_pred).ravel()\n",
    "    sensitivity = tp / (tp + fn) if (tp + fn) > 0 else 0\n",
    "    specificity = tn / (tn + fp) if (tn + fp) > 0 else 0\n",
    "    accuracy    = (tp + tn) / (tp + tn + fp + fn)\n",
    "    return sensitivity, specificity, accuracy\n",
    "\n",
    "print(\"Thresh  Sensitivity  Specificity  Accuracy\")\n",
    "for t in np.arange(0.1, 0.91, 0.05):\n",
    "    sens, spec, acc = metrics_at_thresh(y_test, y_pred_prob, t)\n",
    "    print(f\"{t:5.2f}    {sens:10.3f}    {spec:10.3f}    {acc:8.3f}\")\n"
   ]
  },
  {
   "cell_type": "code",
   "execution_count": 13,
   "id": "c597dcb0-1798-4de6-970d-c460d59eefdb",
   "metadata": {},
   "outputs": [
    {
     "data": {
      "image/png": "[encoded data removed]",
      "text/plain": [
       "<Figure size 600x400 with 1 Axes>"
      ]
     },
     "metadata": {},
     "output_type": "display_data"
    }
   ],
   "source": [
    "from sklearn.metrics import roc_curve, auc\n",
    "import matplotlib.pyplot as plt\n",
    "\n",
    "# 1. Compute FPR, TPR, and thresholds for ROC\n",
    "fpr, tpr, roc_thresh = roc_curve(y_test, y_pred_prob)\n",
    "roc_auc_val = auc(fpr, tpr)\n",
    "\n",
    "# 2. Plot the ROC curve\n",
    "plt.figure(figsize=(6, 4))\n",
    "plt.plot(fpr, tpr, label=f\"AUC = {roc_auc_val:.3f}\")\n",
    "plt.plot([0, 1], [0, 1], 'k--', label=\"Random (AUC = 0.500)\")\n",
    "plt.xlabel(\"False Positive Rate\")\n",
    "plt.ylabel(\"True Positive Rate (Recall)\")\n",
    "plt.title(\"ROC Curve – Lending Club Model\")\n",
    "plt.legend(loc=\"lower right\")\n",
    "plt.tight_layout()\n",
    "plt.show()\n"
   ]
  },
  {
   "cell_type": "code",
   "execution_count": 14,
   "id": "a7f0388d-21db-4768-ae95-325bb6b43b6b",
   "metadata": {},
   "outputs": [
    {
     "data": {
      "image/png": "[encoded data removed]",
      "text/plain": [
       "<Figure size 600x400 with 1 Axes>"
      ]
     },
     "metadata": {},
     "output_type": "display_data"
    }
   ],
   "source": [
    "from sklearn.metrics import precision_recall_curve\n",
    "\n",
    "# 1. Compute precision, recall, and thresholds\n",
    "precision, recall, pr_thresh = precision_recall_curve(y_test, y_pred_prob)\n",
    "\n",
    "# 2. Plot the PR curve\n",
    "plt.figure(figsize=(6, 4))\n",
    "plt.plot(recall, precision)\n",
    "plt.xlabel(\"Recall\")\n",
    "plt.ylabel(\"Precision\")\n",
    "plt.title(\"Precision–Recall Curve – Lending Club Model\")\n",
    "plt.tight_layout()\n",
    "plt.show()\n"
   ]
  },
  {
   "cell_type": "code",
   "execution_count": null,
   "id": "517901dd-0f30-41f6-8f2f-6a7c88bcd950",
   "metadata": {},
   "outputs": [],
   "source": []
  }
 ],
 "metadata": {
  "kernelspec": {
   "display_name": "Python 3 (ipykernel)",
   "language": "python",
   "name": "python3"
  },
  "language_info": {
   "codemirror_mode": {
    "name": "ipython",
    "version": 3
   },
   "file_extension": ".py",
   "mimetype": "text/x-python",
   "name": "python",
   "nbconvert_exporter": "python",
   "pygments_lexer": "ipython3",
   "version": "3.11.0"
  }
 },
 "nbformat": 4,
 "nbformat_minor": 5
}
